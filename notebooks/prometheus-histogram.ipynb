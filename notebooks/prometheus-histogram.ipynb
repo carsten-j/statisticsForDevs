{
 "cells": [
  {
   "cell_type": "code",
   "execution_count": 32,
   "id": "70179d47-24bb-4815-ab71-9427bee9cde5",
   "metadata": {},
   "outputs": [],
   "source": [
    "import prometheus_pandas.ipython.magic\n",
    "from prometheus_pandas import query\n",
    "from matplotlib import pyplot as plt\n",
    "import pandas as pd"
   ]
  },
  {
   "cell_type": "code",
   "execution_count": 33,
   "id": "b6b0f555-05d4-4361-b003-0b4f5f84c43a",
   "metadata": {},
   "outputs": [],
   "source": [
    "#%%prometheus_query http://localhost:9090 \n",
    "#    prom_histogram_bucket"
   ]
  },
  {
   "cell_type": "code",
   "execution_count": 34,
   "id": "d6bf6594-562a-450b-916c-a3ca0c10ba05",
   "metadata": {},
   "outputs": [],
   "source": [
    "p = query.Prometheus('http://localhost:9090')"
   ]
  },
  {
   "cell_type": "code",
   "execution_count": 35,
   "id": "92435919-2ec6-4afe-9597-ada512f9f113",
   "metadata": {},
   "outputs": [
    {
     "data": {
      "text/plain": [
       "prom_histogram_bucket{instance=\"host.docker.internal:9184\",job=\"HistogramTest\",le=\"+Inf\"}    14039.0\n",
       "prom_histogram_bucket{instance=\"host.docker.internal:9184\",job=\"HistogramTest\",le=\"1\"}        2798.0\n",
       "prom_histogram_bucket{instance=\"host.docker.internal:9184\",job=\"HistogramTest\",le=\"2\"}        5594.0\n",
       "prom_histogram_bucket{instance=\"host.docker.internal:9184\",job=\"HistogramTest\",le=\"3\"}        8413.0\n",
       "prom_histogram_bucket{instance=\"host.docker.internal:9184\",job=\"HistogramTest\",le=\"4\"}       11215.0\n",
       "prom_histogram_bucket{instance=\"host.docker.internal:9184\",job=\"HistogramTest\",le=\"5\"}       14039.0\n",
       "dtype: float64"
      ]
     },
     "execution_count": 35,
     "metadata": {},
     "output_type": "execute_result"
    }
   ],
   "source": [
    "p.query('prom_histogram_bucket')"
   ]
  },
  {
   "cell_type": "code",
   "execution_count": 36,
   "id": "c4b4ac7a-403e-4315-85d3-2612ae82cf19",
   "metadata": {},
   "outputs": [
    {
     "data": {
      "text/html": [
       "<div>\n",
       "<style scoped>\n",
       "    .dataframe tbody tr th:only-of-type {\n",
       "        vertical-align: middle;\n",
       "    }\n",
       "\n",
       "    .dataframe tbody tr th {\n",
       "        vertical-align: top;\n",
       "    }\n",
       "\n",
       "    .dataframe thead th {\n",
       "        text-align: right;\n",
       "    }\n",
       "</style>\n",
       "<table border=\"1\" class=\"dataframe\">\n",
       "  <thead>\n",
       "    <tr style=\"text-align: right;\">\n",
       "      <th></th>\n",
       "      <th>prom_histogram_bucket{instance=\"host.docker.internal:9184\",job=\"HistogramTest\",le=\"+Inf\"}</th>\n",
       "      <th>prom_histogram_bucket{instance=\"host.docker.internal:9184\",job=\"HistogramTest\",le=\"1\"}</th>\n",
       "      <th>prom_histogram_bucket{instance=\"host.docker.internal:9184\",job=\"HistogramTest\",le=\"2\"}</th>\n",
       "      <th>prom_histogram_bucket{instance=\"host.docker.internal:9184\",job=\"HistogramTest\",le=\"3\"}</th>\n",
       "      <th>prom_histogram_bucket{instance=\"host.docker.internal:9184\",job=\"HistogramTest\",le=\"4\"}</th>\n",
       "      <th>prom_histogram_bucket{instance=\"host.docker.internal:9184\",job=\"HistogramTest\",le=\"5\"}</th>\n",
       "    </tr>\n",
       "  </thead>\n",
       "  <tbody>\n",
       "    <tr>\n",
       "      <th>2023-06-23 18:43:11.947999954</th>\n",
       "      <td>13930.0</td>\n",
       "      <td>2777.0</td>\n",
       "      <td>5548.0</td>\n",
       "      <td>8345.0</td>\n",
       "      <td>11129.0</td>\n",
       "      <td>13930.0</td>\n",
       "    </tr>\n",
       "    <tr>\n",
       "      <th>2023-06-23 18:43:16.951999903</th>\n",
       "      <td>13940.0</td>\n",
       "      <td>2781.0</td>\n",
       "      <td>5553.0</td>\n",
       "      <td>8353.0</td>\n",
       "      <td>11138.0</td>\n",
       "      <td>13940.0</td>\n",
       "    </tr>\n",
       "    <tr>\n",
       "      <th>2023-06-23 18:43:21.950000048</th>\n",
       "      <td>13950.0</td>\n",
       "      <td>2782.0</td>\n",
       "      <td>5557.0</td>\n",
       "      <td>8361.0</td>\n",
       "      <td>11148.0</td>\n",
       "      <td>13950.0</td>\n",
       "    </tr>\n",
       "    <tr>\n",
       "      <th>2023-06-23 18:43:26.950999975</th>\n",
       "      <td>13960.0</td>\n",
       "      <td>2783.0</td>\n",
       "      <td>5563.0</td>\n",
       "      <td>8368.0</td>\n",
       "      <td>11156.0</td>\n",
       "      <td>13960.0</td>\n",
       "    </tr>\n",
       "    <tr>\n",
       "      <th>2023-06-23 18:43:31.947999954</th>\n",
       "      <td>13970.0</td>\n",
       "      <td>2784.0</td>\n",
       "      <td>5565.0</td>\n",
       "      <td>8373.0</td>\n",
       "      <td>11163.0</td>\n",
       "      <td>13970.0</td>\n",
       "    </tr>\n",
       "    <tr>\n",
       "      <th>2023-06-23 18:43:36.948999882</th>\n",
       "      <td>13979.0</td>\n",
       "      <td>2785.0</td>\n",
       "      <td>5569.0</td>\n",
       "      <td>8379.0</td>\n",
       "      <td>11170.0</td>\n",
       "      <td>13979.0</td>\n",
       "    </tr>\n",
       "    <tr>\n",
       "      <th>2023-06-23 18:43:41.950000048</th>\n",
       "      <td>13989.0</td>\n",
       "      <td>2787.0</td>\n",
       "      <td>5575.0</td>\n",
       "      <td>8388.0</td>\n",
       "      <td>11179.0</td>\n",
       "      <td>13989.0</td>\n",
       "    </tr>\n",
       "    <tr>\n",
       "      <th>2023-06-23 18:43:46.947999954</th>\n",
       "      <td>13999.0</td>\n",
       "      <td>2791.0</td>\n",
       "      <td>5581.0</td>\n",
       "      <td>8396.0</td>\n",
       "      <td>11187.0</td>\n",
       "      <td>13999.0</td>\n",
       "    </tr>\n",
       "    <tr>\n",
       "      <th>2023-06-23 18:43:51.947000027</th>\n",
       "      <td>14009.0</td>\n",
       "      <td>2793.0</td>\n",
       "      <td>5584.0</td>\n",
       "      <td>8400.0</td>\n",
       "      <td>11192.0</td>\n",
       "      <td>14009.0</td>\n",
       "    </tr>\n",
       "    <tr>\n",
       "      <th>2023-06-23 18:43:56.948999882</th>\n",
       "      <td>14019.0</td>\n",
       "      <td>2795.0</td>\n",
       "      <td>5588.0</td>\n",
       "      <td>8404.0</td>\n",
       "      <td>11199.0</td>\n",
       "      <td>14019.0</td>\n",
       "    </tr>\n",
       "    <tr>\n",
       "      <th>2023-06-23 18:44:01.947000027</th>\n",
       "      <td>14029.0</td>\n",
       "      <td>2798.0</td>\n",
       "      <td>5593.0</td>\n",
       "      <td>8409.0</td>\n",
       "      <td>11208.0</td>\n",
       "      <td>14029.0</td>\n",
       "    </tr>\n",
       "    <tr>\n",
       "      <th>2023-06-23 18:44:06.948999882</th>\n",
       "      <td>14039.0</td>\n",
       "      <td>2798.0</td>\n",
       "      <td>5594.0</td>\n",
       "      <td>8413.0</td>\n",
       "      <td>11215.0</td>\n",
       "      <td>14039.0</td>\n",
       "    </tr>\n",
       "  </tbody>\n",
       "</table>\n",
       "</div>"
      ],
      "text/plain": [
       "                               prom_histogram_bucket{instance=\"host.docker.internal:9184\",job=\"HistogramTest\",le=\"+Inf\"}  \\\n",
       "2023-06-23 18:43:11.947999954                                            13930.0                                           \n",
       "2023-06-23 18:43:16.951999903                                            13940.0                                           \n",
       "2023-06-23 18:43:21.950000048                                            13950.0                                           \n",
       "2023-06-23 18:43:26.950999975                                            13960.0                                           \n",
       "2023-06-23 18:43:31.947999954                                            13970.0                                           \n",
       "2023-06-23 18:43:36.948999882                                            13979.0                                           \n",
       "2023-06-23 18:43:41.950000048                                            13989.0                                           \n",
       "2023-06-23 18:43:46.947999954                                            13999.0                                           \n",
       "2023-06-23 18:43:51.947000027                                            14009.0                                           \n",
       "2023-06-23 18:43:56.948999882                                            14019.0                                           \n",
       "2023-06-23 18:44:01.947000027                                            14029.0                                           \n",
       "2023-06-23 18:44:06.948999882                                            14039.0                                           \n",
       "\n",
       "                               prom_histogram_bucket{instance=\"host.docker.internal:9184\",job=\"HistogramTest\",le=\"1\"}  \\\n",
       "2023-06-23 18:43:11.947999954                                             2777.0                                        \n",
       "2023-06-23 18:43:16.951999903                                             2781.0                                        \n",
       "2023-06-23 18:43:21.950000048                                             2782.0                                        \n",
       "2023-06-23 18:43:26.950999975                                             2783.0                                        \n",
       "2023-06-23 18:43:31.947999954                                             2784.0                                        \n",
       "2023-06-23 18:43:36.948999882                                             2785.0                                        \n",
       "2023-06-23 18:43:41.950000048                                             2787.0                                        \n",
       "2023-06-23 18:43:46.947999954                                             2791.0                                        \n",
       "2023-06-23 18:43:51.947000027                                             2793.0                                        \n",
       "2023-06-23 18:43:56.948999882                                             2795.0                                        \n",
       "2023-06-23 18:44:01.947000027                                             2798.0                                        \n",
       "2023-06-23 18:44:06.948999882                                             2798.0                                        \n",
       "\n",
       "                               prom_histogram_bucket{instance=\"host.docker.internal:9184\",job=\"HistogramTest\",le=\"2\"}  \\\n",
       "2023-06-23 18:43:11.947999954                                             5548.0                                        \n",
       "2023-06-23 18:43:16.951999903                                             5553.0                                        \n",
       "2023-06-23 18:43:21.950000048                                             5557.0                                        \n",
       "2023-06-23 18:43:26.950999975                                             5563.0                                        \n",
       "2023-06-23 18:43:31.947999954                                             5565.0                                        \n",
       "2023-06-23 18:43:36.948999882                                             5569.0                                        \n",
       "2023-06-23 18:43:41.950000048                                             5575.0                                        \n",
       "2023-06-23 18:43:46.947999954                                             5581.0                                        \n",
       "2023-06-23 18:43:51.947000027                                             5584.0                                        \n",
       "2023-06-23 18:43:56.948999882                                             5588.0                                        \n",
       "2023-06-23 18:44:01.947000027                                             5593.0                                        \n",
       "2023-06-23 18:44:06.948999882                                             5594.0                                        \n",
       "\n",
       "                               prom_histogram_bucket{instance=\"host.docker.internal:9184\",job=\"HistogramTest\",le=\"3\"}  \\\n",
       "2023-06-23 18:43:11.947999954                                             8345.0                                        \n",
       "2023-06-23 18:43:16.951999903                                             8353.0                                        \n",
       "2023-06-23 18:43:21.950000048                                             8361.0                                        \n",
       "2023-06-23 18:43:26.950999975                                             8368.0                                        \n",
       "2023-06-23 18:43:31.947999954                                             8373.0                                        \n",
       "2023-06-23 18:43:36.948999882                                             8379.0                                        \n",
       "2023-06-23 18:43:41.950000048                                             8388.0                                        \n",
       "2023-06-23 18:43:46.947999954                                             8396.0                                        \n",
       "2023-06-23 18:43:51.947000027                                             8400.0                                        \n",
       "2023-06-23 18:43:56.948999882                                             8404.0                                        \n",
       "2023-06-23 18:44:01.947000027                                             8409.0                                        \n",
       "2023-06-23 18:44:06.948999882                                             8413.0                                        \n",
       "\n",
       "                               prom_histogram_bucket{instance=\"host.docker.internal:9184\",job=\"HistogramTest\",le=\"4\"}  \\\n",
       "2023-06-23 18:43:11.947999954                                            11129.0                                        \n",
       "2023-06-23 18:43:16.951999903                                            11138.0                                        \n",
       "2023-06-23 18:43:21.950000048                                            11148.0                                        \n",
       "2023-06-23 18:43:26.950999975                                            11156.0                                        \n",
       "2023-06-23 18:43:31.947999954                                            11163.0                                        \n",
       "2023-06-23 18:43:36.948999882                                            11170.0                                        \n",
       "2023-06-23 18:43:41.950000048                                            11179.0                                        \n",
       "2023-06-23 18:43:46.947999954                                            11187.0                                        \n",
       "2023-06-23 18:43:51.947000027                                            11192.0                                        \n",
       "2023-06-23 18:43:56.948999882                                            11199.0                                        \n",
       "2023-06-23 18:44:01.947000027                                            11208.0                                        \n",
       "2023-06-23 18:44:06.948999882                                            11215.0                                        \n",
       "\n",
       "                               prom_histogram_bucket{instance=\"host.docker.internal:9184\",job=\"HistogramTest\",le=\"5\"}  \n",
       "2023-06-23 18:43:11.947999954                                            13930.0                                       \n",
       "2023-06-23 18:43:16.951999903                                            13940.0                                       \n",
       "2023-06-23 18:43:21.950000048                                            13950.0                                       \n",
       "2023-06-23 18:43:26.950999975                                            13960.0                                       \n",
       "2023-06-23 18:43:31.947999954                                            13970.0                                       \n",
       "2023-06-23 18:43:36.948999882                                            13979.0                                       \n",
       "2023-06-23 18:43:41.950000048                                            13989.0                                       \n",
       "2023-06-23 18:43:46.947999954                                            13999.0                                       \n",
       "2023-06-23 18:43:51.947000027                                            14009.0                                       \n",
       "2023-06-23 18:43:56.948999882                                            14019.0                                       \n",
       "2023-06-23 18:44:01.947000027                                            14029.0                                       \n",
       "2023-06-23 18:44:06.948999882                                            14039.0                                       "
      ]
     },
     "execution_count": 36,
     "metadata": {},
     "output_type": "execute_result"
    }
   ],
   "source": [
    "df = p.query('prom_histogram_bucket[1m]')\n",
    "df"
   ]
  },
  {
   "cell_type": "code",
   "execution_count": 37,
   "id": "c429cec8-0da9-408b-b036-3a00bc47091f",
   "metadata": {},
   "outputs": [
    {
     "data": {
      "text/plain": [
       "{instance=\"host.docker.internal:9184\",job=\"HistogramTest\",le=\"+Inf\"}    118.906929\n",
       "{instance=\"host.docker.internal:9184\",job=\"HistogramTest\",le=\"1\"}        22.908674\n",
       "{instance=\"host.docker.internal:9184\",job=\"HistogramTest\",le=\"2\"}        50.180906\n",
       "{instance=\"host.docker.internal:9184\",job=\"HistogramTest\",le=\"3\"}        74.180469\n",
       "{instance=\"host.docker.internal:9184\",job=\"HistogramTest\",le=\"4\"}        93.816476\n",
       "{instance=\"host.docker.internal:9184\",job=\"HistogramTest\",le=\"5\"}       118.906929\n",
       "dtype: float64"
      ]
     },
     "execution_count": 37,
     "metadata": {},
     "output_type": "execute_result"
    }
   ],
   "source": [
    "lastMinute = p.query('increase(prom_histogram_bucket[1m])')\n",
    "lastMinute"
   ]
  },
  {
   "cell_type": "code",
   "execution_count": 38,
   "id": "ccd448cb-ded9-4aa2-af02-b654279266b1",
   "metadata": {},
   "outputs": [
    {
     "data": {
      "text/plain": [
       "46.0"
      ]
     },
     "execution_count": 38,
     "metadata": {},
     "output_type": "execute_result"
    }
   ],
   "source": [
    "df.iloc[11][2] -  df.iloc[0][2]"
   ]
  },
  {
   "cell_type": "code",
   "execution_count": 39,
   "id": "632f68e5-18b3-4838-b172-d66781c3bb7d",
   "metadata": {},
   "outputs": [
    {
     "data": {
      "text/plain": [
       "{le=\"+Inf\"}    118.906929\n",
       "{le=\"1\"}        22.908674\n",
       "{le=\"2\"}        50.180906\n",
       "{le=\"3\"}        74.180469\n",
       "{le=\"4\"}        93.816476\n",
       "{le=\"5\"}       118.906929\n",
       "dtype: float64"
      ]
     },
     "execution_count": 39,
     "metadata": {},
     "output_type": "execute_result"
    }
   ],
   "source": [
    "lastMinute = p.query('sum(increase(prom_histogram_bucket[1m])) by (le)')\n",
    "lastMinute"
   ]
  },
  {
   "cell_type": "code",
   "execution_count": 53,
   "id": "4cc1bd19-0425-4e57-813a-b43a89e6b2dd",
   "metadata": {},
   "outputs": [
    {
     "data": {
      "image/png": "[encoded data removed]",
      "text/plain": [
       "<Figure size 640x480 with 1 Axes>"
      ]
     },
     "metadata": {},
     "output_type": "display_data"
    }
   ],
   "source": [
    "hist = lastMinute[1:].plot(kind='bar')\n",
    "_ = hist.grid(axis='y');"
   ]
  },
  {
   "cell_type": "code",
   "execution_count": 41,
   "id": "2503c2f8-7cda-4955-9c2f-8cb82d019515",
   "metadata": {},
   "outputs": [
    {
     "data": {
      "text/plain": [
       "{instance=\"host.docker.internal:9184\",job=\"HistogramTest\"}    4.763043\n",
       "dtype: float64"
      ]
     },
     "execution_count": 41,
     "metadata": {},
     "output_type": "execute_result"
    }
   ],
   "source": [
    "p.query('histogram_quantile(0.95, increase(prom_histogram_bucket[1m]))') "
   ]
  },
  {
   "cell_type": "code",
   "execution_count": 42,
   "id": "b79e5258-4c67-4afe-ad7e-33ebb56af4a5",
   "metadata": {},
   "outputs": [
    {
     "data": {
      "text/plain": [
       "{}    4.763043\n",
       "dtype: float64"
      ]
     },
     "execution_count": 42,
     "metadata": {},
     "output_type": "execute_result"
    }
   ],
   "source": [
    "p.query('histogram_quantile(0.95, sum(increase(prom_histogram_bucket[1m])) by (le))') "
   ]
  },
  {
   "cell_type": "markdown",
   "id": "e56c29c1-ca7d-416b-b1f6-8d8436ef72b5",
   "metadata": {},
   "source": [
    "Vi har i alt"
   ]
  },
  {
   "cell_type": "markdown",
   "id": "dad6c132-e5b6-4726-a62f-78f1c0c543e7",
   "metadata": {},
   "source": [
    "lastMinute['{le=\"5\"}']"
   ]
  },
  {
   "cell_type": "markdown",
   "id": "5d48f5ad-56ad-4602-86e8-96190920e475",
   "metadata": {},
   "source": [
    "20 "
   ]
  },
  {
   "cell_type": "markdown",
   "id": "0d626aa4-2075-4e88-a35c-622220a78199",
   "metadata": {},
   "source": [
    "observationer. 95% fraktil svarer til"
   ]
  },
  {
   "cell_type": "code",
   "execution_count": 43,
   "id": "18762cbb-d32e-4d16-85d6-5a72fccd3d80",
   "metadata": {},
   "outputs": [
    {
     "data": {
      "text/plain": [
       "112.9615825166815"
      ]
     },
     "execution_count": 43,
     "metadata": {},
     "output_type": "execute_result"
    }
   ],
   "source": [
    "0.95 * lastMinute['{le=\"5\"}']"
   ]
  },
  {
   "cell_type": "markdown",
   "id": "73e3501a-35c6-4bc0-85f4-d897b1d10101",
   "metadata": {},
   "source": [
    "Hvilket er et antal observationer inde i bucket 5:"
   ]
  },
  {
   "cell_type": "code",
   "execution_count": 44,
   "id": "73136cf9-9bcd-4307-9a9b-ac6afef61d55",
   "metadata": {},
   "outputs": [
    {
     "data": {
      "text/plain": [
       "19.145106452609937"
      ]
     },
     "execution_count": 44,
     "metadata": {},
     "output_type": "execute_result"
    }
   ],
   "source": [
    "target = 0.95 * lastMinute['{le=\"5\"}'] - lastMinute['{le=\"4\"}']\n",
    "target"
   ]
  },
  {
   "cell_type": "markdown",
   "id": "2d729915-fee6-4146-999c-7bd0367cf9d0",
   "metadata": {},
   "source": [
    "Lad os antage, at de observationer som falder i bucket 5 er fordelt ligeligt over bucket 5, så kan vi udregne en hældning:"
   ]
  },
  {
   "cell_type": "code",
   "execution_count": 45,
   "id": "43810b70-40ab-438c-9a22-de74ec220c33",
   "metadata": {},
   "outputs": [
    {
     "data": {
      "text/plain": [
       "0.0398557971014493"
      ]
     },
     "execution_count": 45,
     "metadata": {},
     "output_type": "execute_result"
    }
   ],
   "source": [
    "slope = 1.0 / (lastMinute['{le=\"5\"}'] - lastMinute['{le=\"4\"}'])\n",
    "slope "
   ]
  },
  {
   "cell_type": "markdown",
   "id": "57bab0ff-48b6-4027-b6a0-7a817e5bf158",
   "metadata": {},
   "source": [
    "Hvilket bucket indeholder ovenstående request? Det gør bucket 5."
   ]
  },
  {
   "cell_type": "code",
   "execution_count": 46,
   "id": "186d79a0-e50d-496b-97e4-764984647351",
   "metadata": {},
   "outputs": [
    {
     "data": {
      "text/plain": [
       "4.76304347826087"
      ]
     },
     "execution_count": 46,
     "metadata": {},
     "output_type": "execute_result"
    }
   ],
   "source": [
    "4.0 + slope * target"
   ]
  },
  {
   "cell_type": "code",
   "execution_count": 47,
   "id": "6640414d-3b09-4f45-86a8-27d89f4a4d50",
   "metadata": {},
   "outputs": [
    {
     "data": {
      "image/png": "[encoded data removed]",
      "text/plain": [
       "<Figure size 640x480 with 1 Axes>"
      ]
     },
     "metadata": {},
     "output_type": "display_data"
    }
   ],
   "source": [
    "plot = lastMinute[1:].plot(kind='line');\n",
    "plot.grid(axis='y');\n",
    "_  = plot.axhline(y=0.95*120, color= 'red', linewidth=2,)"
   ]
  },
  {
   "cell_type": "code",
   "execution_count": null,
   "id": "f01e3c4d-a68d-4b76-8aaa-19de0dcaf1ab",
   "metadata": {},
   "outputs": [],
   "source": []
  }
 ],
 "metadata": {
  "kernelspec": {
   "display_name": "Python 3 (ipykernel)",
   "language": "python",
   "name": "python3"
  },
  "language_info": {
   "codemirror_mode": {
    "name": "ipython",
    "version": 3
   },
   "file_extension": ".py",
   "mimetype": "text/x-python",
   "name": "python",
   "nbconvert_exporter": "python",
   "pygments_lexer": "ipython3",
   "version": "3.11.4"
  }
 },
 "nbformat": 4,
 "nbformat_minor": 5
}
