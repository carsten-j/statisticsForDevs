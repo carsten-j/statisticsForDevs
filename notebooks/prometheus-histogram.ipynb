{
 "cells": [
  {
   "cell_type": "code",
   "execution_count": 59,
   "id": "70179d47-24bb-4815-ab71-9427bee9cde5",
   "metadata": {},
   "outputs": [],
   "source": [
    "import prometheus_pandas.ipython.magic\n",
    "from prometheus_pandas import query\n",
    "from matplotlib import pyplot as plt\n",
    "import pandas as pd"
   ]
  },
  {
   "cell_type": "code",
   "execution_count": 60,
   "id": "b6b0f555-05d4-4361-b003-0b4f5f84c43a",
   "metadata": {},
   "outputs": [],
   "source": [
    "#%%prometheus_query http://localhost:9090 \n",
    "#    prom_histogram_bucket"
   ]
  },
  {
   "cell_type": "code",
   "execution_count": 61,
   "id": "d6bf6594-562a-450b-916c-a3ca0c10ba05",
   "metadata": {},
   "outputs": [],
   "source": [
    "p = query.Prometheus('http://localhost:9090')"
   ]
  },
  {
   "cell_type": "code",
   "execution_count": 62,
   "id": "92435919-2ec6-4afe-9597-ada512f9f113",
   "metadata": {},
   "outputs": [
    {
     "data": {
      "text/plain": [
       "prom_histogram_bucket{instance=\"host.docker.internal:9184\",job=\"HistogramTest\",le=\"+Inf\"}    31271.0\n",
       "prom_histogram_bucket{instance=\"host.docker.internal:9184\",job=\"HistogramTest\",le=\"1\"}        6222.0\n",
       "prom_histogram_bucket{instance=\"host.docker.internal:9184\",job=\"HistogramTest\",le=\"2\"}       12519.0\n",
       "prom_histogram_bucket{instance=\"host.docker.internal:9184\",job=\"HistogramTest\",le=\"3\"}       18819.0\n",
       "prom_histogram_bucket{instance=\"host.docker.internal:9184\",job=\"HistogramTest\",le=\"4\"}       25033.0\n",
       "prom_histogram_bucket{instance=\"host.docker.internal:9184\",job=\"HistogramTest\",le=\"5\"}       31271.0\n",
       "dtype: float64"
      ]
     },
     "execution_count": 62,
     "metadata": {},
     "output_type": "execute_result"
    }
   ],
   "source": [
    "p.query('prom_histogram_bucket')"
   ]
  },
  {
   "cell_type": "code",
   "execution_count": 63,
   "id": "c4b4ac7a-403e-4315-85d3-2612ae82cf19",
   "metadata": {},
   "outputs": [
    {
     "data": {
      "text/html": [
       "<div>\n",
       "<style scoped>\n",
       "    .dataframe tbody tr th:only-of-type {\n",
       "        vertical-align: middle;\n",
       "    }\n",
       "\n",
       "    .dataframe tbody tr th {\n",
       "        vertical-align: top;\n",
       "    }\n",
       "\n",
       "    .dataframe thead th {\n",
       "        text-align: right;\n",
       "    }\n",
       "</style>\n",
       "<table border=\"1\" class=\"dataframe\">\n",
       "  <thead>\n",
       "    <tr style=\"text-align: right;\">\n",
       "      <th></th>\n",
       "      <th>prom_histogram_bucket{instance=\"host.docker.internal:9184\",job=\"HistogramTest\",le=\"+Inf\"}</th>\n",
       "      <th>prom_histogram_bucket{instance=\"host.docker.internal:9184\",job=\"HistogramTest\",le=\"1\"}</th>\n",
       "      <th>prom_histogram_bucket{instance=\"host.docker.internal:9184\",job=\"HistogramTest\",le=\"2\"}</th>\n",
       "      <th>prom_histogram_bucket{instance=\"host.docker.internal:9184\",job=\"HistogramTest\",le=\"3\"}</th>\n",
       "      <th>prom_histogram_bucket{instance=\"host.docker.internal:9184\",job=\"HistogramTest\",le=\"4\"}</th>\n",
       "      <th>prom_histogram_bucket{instance=\"host.docker.internal:9184\",job=\"HistogramTest\",le=\"5\"}</th>\n",
       "    </tr>\n",
       "  </thead>\n",
       "  <tbody>\n",
       "    <tr>\n",
       "      <th>2023-06-26 09:52:52.865999937</th>\n",
       "      <td>31162.0</td>\n",
       "      <td>6203.0</td>\n",
       "      <td>12473.0</td>\n",
       "      <td>18755.0</td>\n",
       "      <td>24948.0</td>\n",
       "      <td>31162.0</td>\n",
       "    </tr>\n",
       "    <tr>\n",
       "      <th>2023-06-26 09:52:57.865000010</th>\n",
       "      <td>31172.0</td>\n",
       "      <td>6205.0</td>\n",
       "      <td>12475.0</td>\n",
       "      <td>18760.0</td>\n",
       "      <td>24955.0</td>\n",
       "      <td>31172.0</td>\n",
       "    </tr>\n",
       "    <tr>\n",
       "      <th>2023-06-26 09:53:02.865000010</th>\n",
       "      <td>31182.0</td>\n",
       "      <td>6209.0</td>\n",
       "      <td>12480.0</td>\n",
       "      <td>18767.0</td>\n",
       "      <td>24964.0</td>\n",
       "      <td>31182.0</td>\n",
       "    </tr>\n",
       "    <tr>\n",
       "      <th>2023-06-26 09:53:07.865999937</th>\n",
       "      <td>31192.0</td>\n",
       "      <td>6209.0</td>\n",
       "      <td>12484.0</td>\n",
       "      <td>18773.0</td>\n",
       "      <td>24972.0</td>\n",
       "      <td>31192.0</td>\n",
       "    </tr>\n",
       "    <tr>\n",
       "      <th>2023-06-26 09:53:12.865999937</th>\n",
       "      <td>31202.0</td>\n",
       "      <td>6211.0</td>\n",
       "      <td>12489.0</td>\n",
       "      <td>18779.0</td>\n",
       "      <td>24981.0</td>\n",
       "      <td>31202.0</td>\n",
       "    </tr>\n",
       "    <tr>\n",
       "      <th>2023-06-26 09:53:17.865999937</th>\n",
       "      <td>31212.0</td>\n",
       "      <td>6213.0</td>\n",
       "      <td>12493.0</td>\n",
       "      <td>18786.0</td>\n",
       "      <td>24988.0</td>\n",
       "      <td>31212.0</td>\n",
       "    </tr>\n",
       "    <tr>\n",
       "      <th>2023-06-26 09:53:22.865000010</th>\n",
       "      <td>31222.0</td>\n",
       "      <td>6213.0</td>\n",
       "      <td>12496.0</td>\n",
       "      <td>18790.0</td>\n",
       "      <td>24993.0</td>\n",
       "      <td>31222.0</td>\n",
       "    </tr>\n",
       "    <tr>\n",
       "      <th>2023-06-26 09:53:27.865999937</th>\n",
       "      <td>31231.0</td>\n",
       "      <td>6216.0</td>\n",
       "      <td>12501.0</td>\n",
       "      <td>18797.0</td>\n",
       "      <td>25001.0</td>\n",
       "      <td>31231.0</td>\n",
       "    </tr>\n",
       "    <tr>\n",
       "      <th>2023-06-26 09:53:32.865000010</th>\n",
       "      <td>31241.0</td>\n",
       "      <td>6219.0</td>\n",
       "      <td>12505.0</td>\n",
       "      <td>18801.0</td>\n",
       "      <td>25008.0</td>\n",
       "      <td>31241.0</td>\n",
       "    </tr>\n",
       "    <tr>\n",
       "      <th>2023-06-26 09:53:37.865999937</th>\n",
       "      <td>31251.0</td>\n",
       "      <td>6219.0</td>\n",
       "      <td>12511.0</td>\n",
       "      <td>18809.0</td>\n",
       "      <td>25018.0</td>\n",
       "      <td>31251.0</td>\n",
       "    </tr>\n",
       "    <tr>\n",
       "      <th>2023-06-26 09:53:42.865000010</th>\n",
       "      <td>31261.0</td>\n",
       "      <td>6220.0</td>\n",
       "      <td>12514.0</td>\n",
       "      <td>18813.0</td>\n",
       "      <td>25025.0</td>\n",
       "      <td>31261.0</td>\n",
       "    </tr>\n",
       "    <tr>\n",
       "      <th>2023-06-26 09:53:47.865000010</th>\n",
       "      <td>31271.0</td>\n",
       "      <td>6222.0</td>\n",
       "      <td>12519.0</td>\n",
       "      <td>18819.0</td>\n",
       "      <td>25033.0</td>\n",
       "      <td>31271.0</td>\n",
       "    </tr>\n",
       "  </tbody>\n",
       "</table>\n",
       "</div>"
      ],
      "text/plain": [
       "                               prom_histogram_bucket{instance=\"host.docker.internal:9184\",job=\"HistogramTest\",le=\"+Inf\"}  \\\n",
       "2023-06-26 09:52:52.865999937                                            31162.0                                           \n",
       "2023-06-26 09:52:57.865000010                                            31172.0                                           \n",
       "2023-06-26 09:53:02.865000010                                            31182.0                                           \n",
       "2023-06-26 09:53:07.865999937                                            31192.0                                           \n",
       "2023-06-26 09:53:12.865999937                                            31202.0                                           \n",
       "2023-06-26 09:53:17.865999937                                            31212.0                                           \n",
       "2023-06-26 09:53:22.865000010                                            31222.0                                           \n",
       "2023-06-26 09:53:27.865999937                                            31231.0                                           \n",
       "2023-06-26 09:53:32.865000010                                            31241.0                                           \n",
       "2023-06-26 09:53:37.865999937                                            31251.0                                           \n",
       "2023-06-26 09:53:42.865000010                                            31261.0                                           \n",
       "2023-06-26 09:53:47.865000010                                            31271.0                                           \n",
       "\n",
       "                               prom_histogram_bucket{instance=\"host.docker.internal:9184\",job=\"HistogramTest\",le=\"1\"}  \\\n",
       "2023-06-26 09:52:52.865999937                                             6203.0                                        \n",
       "2023-06-26 09:52:57.865000010                                             6205.0                                        \n",
       "2023-06-26 09:53:02.865000010                                             6209.0                                        \n",
       "2023-06-26 09:53:07.865999937                                             6209.0                                        \n",
       "2023-06-26 09:53:12.865999937                                             6211.0                                        \n",
       "2023-06-26 09:53:17.865999937                                             6213.0                                        \n",
       "2023-06-26 09:53:22.865000010                                             6213.0                                        \n",
       "2023-06-26 09:53:27.865999937                                             6216.0                                        \n",
       "2023-06-26 09:53:32.865000010                                             6219.0                                        \n",
       "2023-06-26 09:53:37.865999937                                             6219.0                                        \n",
       "2023-06-26 09:53:42.865000010                                             6220.0                                        \n",
       "2023-06-26 09:53:47.865000010                                             6222.0                                        \n",
       "\n",
       "                               prom_histogram_bucket{instance=\"host.docker.internal:9184\",job=\"HistogramTest\",le=\"2\"}  \\\n",
       "2023-06-26 09:52:52.865999937                                            12473.0                                        \n",
       "2023-06-26 09:52:57.865000010                                            12475.0                                        \n",
       "2023-06-26 09:53:02.865000010                                            12480.0                                        \n",
       "2023-06-26 09:53:07.865999937                                            12484.0                                        \n",
       "2023-06-26 09:53:12.865999937                                            12489.0                                        \n",
       "2023-06-26 09:53:17.865999937                                            12493.0                                        \n",
       "2023-06-26 09:53:22.865000010                                            12496.0                                        \n",
       "2023-06-26 09:53:27.865999937                                            12501.0                                        \n",
       "2023-06-26 09:53:32.865000010                                            12505.0                                        \n",
       "2023-06-26 09:53:37.865999937                                            12511.0                                        \n",
       "2023-06-26 09:53:42.865000010                                            12514.0                                        \n",
       "2023-06-26 09:53:47.865000010                                            12519.0                                        \n",
       "\n",
       "                               prom_histogram_bucket{instance=\"host.docker.internal:9184\",job=\"HistogramTest\",le=\"3\"}  \\\n",
       "2023-06-26 09:52:52.865999937                                            18755.0                                        \n",
       "2023-06-26 09:52:57.865000010                                            18760.0                                        \n",
       "2023-06-26 09:53:02.865000010                                            18767.0                                        \n",
       "2023-06-26 09:53:07.865999937                                            18773.0                                        \n",
       "2023-06-26 09:53:12.865999937                                            18779.0                                        \n",
       "2023-06-26 09:53:17.865999937                                            18786.0                                        \n",
       "2023-06-26 09:53:22.865000010                                            18790.0                                        \n",
       "2023-06-26 09:53:27.865999937                                            18797.0                                        \n",
       "2023-06-26 09:53:32.865000010                                            18801.0                                        \n",
       "2023-06-26 09:53:37.865999937                                            18809.0                                        \n",
       "2023-06-26 09:53:42.865000010                                            18813.0                                        \n",
       "2023-06-26 09:53:47.865000010                                            18819.0                                        \n",
       "\n",
       "                               prom_histogram_bucket{instance=\"host.docker.internal:9184\",job=\"HistogramTest\",le=\"4\"}  \\\n",
       "2023-06-26 09:52:52.865999937                                            24948.0                                        \n",
       "2023-06-26 09:52:57.865000010                                            24955.0                                        \n",
       "2023-06-26 09:53:02.865000010                                            24964.0                                        \n",
       "2023-06-26 09:53:07.865999937                                            24972.0                                        \n",
       "2023-06-26 09:53:12.865999937                                            24981.0                                        \n",
       "2023-06-26 09:53:17.865999937                                            24988.0                                        \n",
       "2023-06-26 09:53:22.865000010                                            24993.0                                        \n",
       "2023-06-26 09:53:27.865999937                                            25001.0                                        \n",
       "2023-06-26 09:53:32.865000010                                            25008.0                                        \n",
       "2023-06-26 09:53:37.865999937                                            25018.0                                        \n",
       "2023-06-26 09:53:42.865000010                                            25025.0                                        \n",
       "2023-06-26 09:53:47.865000010                                            25033.0                                        \n",
       "\n",
       "                               prom_histogram_bucket{instance=\"host.docker.internal:9184\",job=\"HistogramTest\",le=\"5\"}  \n",
       "2023-06-26 09:52:52.865999937                                            31162.0                                       \n",
       "2023-06-26 09:52:57.865000010                                            31172.0                                       \n",
       "2023-06-26 09:53:02.865000010                                            31182.0                                       \n",
       "2023-06-26 09:53:07.865999937                                            31192.0                                       \n",
       "2023-06-26 09:53:12.865999937                                            31202.0                                       \n",
       "2023-06-26 09:53:17.865999937                                            31212.0                                       \n",
       "2023-06-26 09:53:22.865000010                                            31222.0                                       \n",
       "2023-06-26 09:53:27.865999937                                            31231.0                                       \n",
       "2023-06-26 09:53:32.865000010                                            31241.0                                       \n",
       "2023-06-26 09:53:37.865999937                                            31251.0                                       \n",
       "2023-06-26 09:53:42.865000010                                            31261.0                                       \n",
       "2023-06-26 09:53:47.865000010                                            31271.0                                       "
      ]
     },
     "execution_count": 63,
     "metadata": {},
     "output_type": "execute_result"
    }
   ],
   "source": [
    "df = p.query('prom_histogram_bucket[1m]')\n",
    "df"
   ]
  },
  {
   "cell_type": "code",
   "execution_count": 64,
   "id": "c429cec8-0da9-408b-b036-3a00bc47091f",
   "metadata": {},
   "outputs": [
    {
     "data": {
      "text/plain": [
       "{instance=\"host.docker.internal:9184\",job=\"HistogramTest\",le=\"+Inf\"}    118.911253\n",
       "{instance=\"host.docker.internal:9184\",job=\"HistogramTest\",le=\"1\"}        20.727650\n",
       "{instance=\"host.docker.internal:9184\",job=\"HistogramTest\",le=\"2\"}        50.182731\n",
       "{instance=\"host.docker.internal:9184\",job=\"HistogramTest\",le=\"3\"}        69.819451\n",
       "{instance=\"host.docker.internal:9184\",job=\"HistogramTest\",le=\"4\"}        92.728959\n",
       "{instance=\"host.docker.internal:9184\",job=\"HistogramTest\",le=\"5\"}       118.911253\n",
       "dtype: float64"
      ]
     },
     "execution_count": 64,
     "metadata": {},
     "output_type": "execute_result"
    }
   ],
   "source": [
    "lastMinute = p.query('increase(prom_histogram_bucket[1m])')\n",
    "lastMinute"
   ]
  },
  {
   "cell_type": "markdown",
   "id": "aee225a9-bb97-42e9-8aef-479ce1d17b6a",
   "metadata": {},
   "source": [
    "Funktionen increase ser på ændringen over det angivne tidsinterval. Kan vi fx selv regne det i hånden?"
   ]
  },
  {
   "cell_type": "code",
   "execution_count": 65,
   "id": "eba91a5f-e0d9-4082-b122-42181189c749",
   "metadata": {},
   "outputs": [
    {
     "data": {
      "text/plain": [
       "46.0"
      ]
     },
     "execution_count": 65,
     "metadata": {},
     "output_type": "execute_result"
    }
   ],
   "source": [
    "df.iloc[11][2] -  df.iloc[0][2]"
   ]
  },
  {
   "cell_type": "markdown",
   "id": "6a9ab5b1-ef47-42c4-9264-5e7112b98ec0",
   "metadata": {},
   "source": [
    "Det passer jo ikke? Tidsintervallet er angivet til 1m. Lad os kigge på nærmere på observationerne."
   ]
  },
  {
   "cell_type": "code",
   "execution_count": 75,
   "id": "c8d4aa08-cd0e-4a56-bde8-86b6bdcb70ad",
   "metadata": {},
   "outputs": [
    {
     "data": {
      "text/plain": [
       "50.18181818181818"
      ]
     },
     "execution_count": 75,
     "metadata": {},
     "output_type": "execute_result"
    }
   ],
   "source": [
    "46/55 * 60"
   ]
  },
  {
   "cell_type": "code",
   "execution_count": 66,
   "id": "632f68e5-18b3-4838-b172-d66781c3bb7d",
   "metadata": {},
   "outputs": [
    {
     "data": {
      "text/plain": [
       "{le=\"+Inf\"}    118.911253\n",
       "{le=\"1\"}        20.727650\n",
       "{le=\"2\"}        50.182731\n",
       "{le=\"3\"}        69.819451\n",
       "{le=\"4\"}        92.728959\n",
       "{le=\"5\"}       118.911253\n",
       "dtype: float64"
      ]
     },
     "execution_count": 66,
     "metadata": {},
     "output_type": "execute_result"
    }
   ],
   "source": [
    "lastMinute = p.query('sum(increase(prom_histogram_bucket[1m])) by (le)')\n",
    "lastMinute"
   ]
  },
  {
   "cell_type": "code",
   "execution_count": 67,
   "id": "4cc1bd19-0425-4e57-813a-b43a89e6b2dd",
   "metadata": {},
   "outputs": [
    {
     "data": {
      "image/png": "[encoded data removed]",
      "text/plain": [
       "<Figure size 640x480 with 1 Axes>"
      ]
     },
     "metadata": {},
     "output_type": "display_data"
    }
   ],
   "source": [
    "hist = lastMinute[1:].plot(kind='bar')\n",
    "_ = hist.grid(axis='y');"
   ]
  },
  {
   "cell_type": "code",
   "execution_count": 68,
   "id": "2503c2f8-7cda-4955-9c2f-8cb82d019515",
   "metadata": {},
   "outputs": [
    {
     "data": {
      "text/plain": [
       "{instance=\"host.docker.internal:9184\",job=\"HistogramTest\"}    4.772917\n",
       "dtype: float64"
      ]
     },
     "execution_count": 68,
     "metadata": {},
     "output_type": "execute_result"
    }
   ],
   "source": [
    "p.query('histogram_quantile(0.95, increase(prom_histogram_bucket[1m]))') "
   ]
  },
  {
   "cell_type": "code",
   "execution_count": 69,
   "id": "b79e5258-4c67-4afe-ad7e-33ebb56af4a5",
   "metadata": {},
   "outputs": [
    {
     "data": {
      "text/plain": [
       "{}    4.772917\n",
       "dtype: float64"
      ]
     },
     "execution_count": 69,
     "metadata": {},
     "output_type": "execute_result"
    }
   ],
   "source": [
    "p.query('histogram_quantile(0.95, sum(increase(prom_histogram_bucket[1m])) by (le))') "
   ]
  },
  {
   "cell_type": "markdown",
   "id": "e56c29c1-ca7d-416b-b1f6-8d8436ef72b5",
   "metadata": {},
   "source": [
    "Vi har i alt"
   ]
  },
  {
   "cell_type": "markdown",
   "id": "dad6c132-e5b6-4726-a62f-78f1c0c543e7",
   "metadata": {},
   "source": [
    "lastMinute['{le=\"5\"}']"
   ]
  },
  {
   "cell_type": "markdown",
   "id": "5d48f5ad-56ad-4602-86e8-96190920e475",
   "metadata": {},
   "source": [
    "20 "
   ]
  },
  {
   "cell_type": "markdown",
   "id": "0d626aa4-2075-4e88-a35c-622220a78199",
   "metadata": {},
   "source": [
    "observationer. 95% fraktil svarer til"
   ]
  },
  {
   "cell_type": "code",
   "execution_count": 70,
   "id": "18762cbb-d32e-4d16-85d6-5a72fccd3d80",
   "metadata": {},
   "outputs": [
    {
     "data": {
      "text/plain": [
       "112.9656902852779"
      ]
     },
     "execution_count": 70,
     "metadata": {},
     "output_type": "execute_result"
    }
   ],
   "source": [
    "0.95 * lastMinute['{le=\"5\"}']"
   ]
  },
  {
   "cell_type": "markdown",
   "id": "73e3501a-35c6-4bc0-85f4-d897b1d10101",
   "metadata": {},
   "source": [
    "Hvilket er et antal observationer inde i bucket 5:"
   ]
  },
  {
   "cell_type": "code",
   "execution_count": 71,
   "id": "73136cf9-9bcd-4307-9a9b-ac6afef61d55",
   "metadata": {},
   "outputs": [
    {
     "data": {
      "text/plain": [
       "20.236731576937743"
      ]
     },
     "execution_count": 71,
     "metadata": {},
     "output_type": "execute_result"
    }
   ],
   "source": [
    "target = 0.95 * lastMinute['{le=\"5\"}'] - lastMinute['{le=\"4\"}']\n",
    "target"
   ]
  },
  {
   "cell_type": "markdown",
   "id": "2d729915-fee6-4146-999c-7bd0367cf9d0",
   "metadata": {},
   "source": [
    "Lad os antage, at de observationer som falder i bucket 5 er fordelt ligeligt over bucket 5, så kan vi udregne en hældning:"
   ]
  },
  {
   "cell_type": "code",
   "execution_count": 72,
   "id": "43810b70-40ab-438c-9a22-de74ec220c33",
   "metadata": {},
   "outputs": [
    {
     "data": {
      "text/plain": [
       "0.03819375000000001"
      ]
     },
     "execution_count": 72,
     "metadata": {},
     "output_type": "execute_result"
    }
   ],
   "source": [
    "slope = 1.0 / (lastMinute['{le=\"5\"}'] - lastMinute['{le=\"4\"}'])\n",
    "slope "
   ]
  },
  {
   "cell_type": "markdown",
   "id": "57bab0ff-48b6-4027-b6a0-7a817e5bf158",
   "metadata": {},
   "source": [
    "Hvilket bucket indeholder ovenstående request? Det gør bucket 5."
   ]
  },
  {
   "cell_type": "code",
   "execution_count": 73,
   "id": "186d79a0-e50d-496b-97e4-764984647351",
   "metadata": {},
   "outputs": [
    {
     "data": {
      "text/plain": [
       "4.772916666666666"
      ]
     },
     "execution_count": 73,
     "metadata": {},
     "output_type": "execute_result"
    }
   ],
   "source": [
    "4.0 + slope * target"
   ]
  },
  {
   "cell_type": "code",
   "execution_count": 74,
   "id": "6640414d-3b09-4f45-86a8-27d89f4a4d50",
   "metadata": {},
   "outputs": [
    {
     "data": {
      "image/png": "[encoded data removed]",
      "text/plain": [
       "<Figure size 640x480 with 1 Axes>"
      ]
     },
     "metadata": {},
     "output_type": "display_data"
    }
   ],
   "source": [
    "plot = lastMinute[1:].plot(kind='line');\n",
    "plot.grid(axis='y');\n",
    "_  = plot.axhline(y=0.95*120, color= 'red', linewidth=2,)"
   ]
  },
  {
   "cell_type": "code",
   "execution_count": null,
   "id": "e1253f66-89dd-4db3-83b5-a155fc244420",
   "metadata": {},
   "outputs": [],
   "source": []
  },
  {
   "cell_type": "code",
   "execution_count": null,
   "id": "f01e3c4d-a68d-4b76-8aaa-19de0dcaf1ab",
   "metadata": {},
   "outputs": [],
   "source": []
  }
 ],
 "metadata": {
  "kernelspec": {
   "display_name": "Python 3 (ipykernel)",
   "language": "python",
   "name": "python3"
  },
  "language_info": {
   "codemirror_mode": {
    "name": "ipython",
    "version": 3
   },
   "file_extension": ".py",
   "mimetype": "text/x-python",
   "name": "python",
   "nbconvert_exporter": "python",
   "pygments_lexer": "ipython3",
   "version": "3.11.0"
  }
 },
 "nbformat": 4,
 "nbformat_minor": 5
}
