{
 "cells": [
  {
   "cell_type": "code",
   "execution_count": 2,
   "id": "70179d47-24bb-4815-ab71-9427bee9cde5",
   "metadata": {},
   "outputs": [],
   "source": [
    "import prometheus_pandas.ipython.magic\n",
    "from prometheus_pandas import query\n",
    "from matplotlib import pyplot as plt\n",
    "import pandas as pd"
   ]
  },
  {
   "cell_type": "code",
   "execution_count": 3,
   "id": "b6b0f555-05d4-4361-b003-0b4f5f84c43a",
   "metadata": {},
   "outputs": [],
   "source": [
    "#%%prometheus_query http://localhost:9090 \n",
    "#    prom_histogram_bucket"
   ]
  },
  {
   "cell_type": "code",
   "execution_count": 41,
   "id": "d6bf6594-562a-450b-916c-a3ca0c10ba05",
   "metadata": {},
   "outputs": [],
   "source": [
    "p = query.Prometheus('http://localhost:9090')"
   ]
  },
  {
   "cell_type": "code",
   "execution_count": 42,
   "id": "92435919-2ec6-4afe-9597-ada512f9f113",
   "metadata": {},
   "outputs": [
    {
     "data": {
      "text/plain": [
       "prom_histogram_bucket{instance=\"host.docker.internal:9184\",job=\"HistogramTest\",le=\"+Inf\"}    11643.0\n",
       "prom_histogram_bucket{instance=\"host.docker.internal:9184\",job=\"HistogramTest\",le=\"1\"}        2271.0\n",
       "prom_histogram_bucket{instance=\"host.docker.internal:9184\",job=\"HistogramTest\",le=\"2\"}        4664.0\n",
       "prom_histogram_bucket{instance=\"host.docker.internal:9184\",job=\"HistogramTest\",le=\"3\"}        6991.0\n",
       "prom_histogram_bucket{instance=\"host.docker.internal:9184\",job=\"HistogramTest\",le=\"4\"}        9291.0\n",
       "prom_histogram_bucket{instance=\"host.docker.internal:9184\",job=\"HistogramTest\",le=\"5\"}       11643.0\n",
       "dtype: float64"
      ]
     },
     "execution_count": 42,
     "metadata": {},
     "output_type": "execute_result"
    }
   ],
   "source": [
    "p.query('prom_histogram_bucket')"
   ]
  },
  {
   "cell_type": "code",
   "execution_count": 83,
   "id": "c4b4ac7a-403e-4315-85d3-2612ae82cf19",
   "metadata": {},
   "outputs": [
    {
     "data": {
      "text/html": [
       "<div>\n",
       "<style scoped>\n",
       "    .dataframe tbody tr th:only-of-type {\n",
       "        vertical-align: middle;\n",
       "    }\n",
       "\n",
       "    .dataframe tbody tr th {\n",
       "        vertical-align: top;\n",
       "    }\n",
       "\n",
       "    .dataframe thead th {\n",
       "        text-align: right;\n",
       "    }\n",
       "</style>\n",
       "<table border=\"1\" class=\"dataframe\">\n",
       "  <thead>\n",
       "    <tr style=\"text-align: right;\">\n",
       "      <th></th>\n",
       "      <th>prom_histogram_bucket{instance=\"host.docker.internal:9184\",job=\"HistogramTest\",le=\"+Inf\"}</th>\n",
       "      <th>prom_histogram_bucket{instance=\"host.docker.internal:9184\",job=\"HistogramTest\",le=\"1\"}</th>\n",
       "      <th>prom_histogram_bucket{instance=\"host.docker.internal:9184\",job=\"HistogramTest\",le=\"2\"}</th>\n",
       "      <th>prom_histogram_bucket{instance=\"host.docker.internal:9184\",job=\"HistogramTest\",le=\"3\"}</th>\n",
       "      <th>prom_histogram_bucket{instance=\"host.docker.internal:9184\",job=\"HistogramTest\",le=\"4\"}</th>\n",
       "      <th>prom_histogram_bucket{instance=\"host.docker.internal:9184\",job=\"HistogramTest\",le=\"5\"}</th>\n",
       "    </tr>\n",
       "  </thead>\n",
       "  <tbody>\n",
       "    <tr>\n",
       "      <th>2023-06-23 12:41:05.140000105</th>\n",
       "      <td>27634.0</td>\n",
       "      <td>5508.0</td>\n",
       "      <td>11084.0</td>\n",
       "      <td>16537.0</td>\n",
       "      <td>22057.0</td>\n",
       "      <td>27634.0</td>\n",
       "    </tr>\n",
       "    <tr>\n",
       "      <th>2023-06-23 12:41:10.141000032</th>\n",
       "      <td>27644.0</td>\n",
       "      <td>5510.0</td>\n",
       "      <td>11090.0</td>\n",
       "      <td>16545.0</td>\n",
       "      <td>22065.0</td>\n",
       "      <td>27644.0</td>\n",
       "    </tr>\n",
       "    <tr>\n",
       "      <th>2023-06-23 12:41:15.140000105</th>\n",
       "      <td>27654.0</td>\n",
       "      <td>5510.0</td>\n",
       "      <td>11092.0</td>\n",
       "      <td>16550.0</td>\n",
       "      <td>22071.0</td>\n",
       "      <td>27654.0</td>\n",
       "    </tr>\n",
       "    <tr>\n",
       "      <th>2023-06-23 12:41:20.141000032</th>\n",
       "      <td>27664.0</td>\n",
       "      <td>5511.0</td>\n",
       "      <td>11093.0</td>\n",
       "      <td>16554.0</td>\n",
       "      <td>22078.0</td>\n",
       "      <td>27664.0</td>\n",
       "    </tr>\n",
       "    <tr>\n",
       "      <th>2023-06-23 12:41:25.140000105</th>\n",
       "      <td>27674.0</td>\n",
       "      <td>5512.0</td>\n",
       "      <td>11095.0</td>\n",
       "      <td>16558.0</td>\n",
       "      <td>22084.0</td>\n",
       "      <td>27674.0</td>\n",
       "    </tr>\n",
       "    <tr>\n",
       "      <th>2023-06-23 12:41:30.141000032</th>\n",
       "      <td>27684.0</td>\n",
       "      <td>5513.0</td>\n",
       "      <td>11098.0</td>\n",
       "      <td>16566.0</td>\n",
       "      <td>22092.0</td>\n",
       "      <td>27684.0</td>\n",
       "    </tr>\n",
       "    <tr>\n",
       "      <th>2023-06-23 12:41:35.140000105</th>\n",
       "      <td>27694.0</td>\n",
       "      <td>5513.0</td>\n",
       "      <td>11101.0</td>\n",
       "      <td>16570.0</td>\n",
       "      <td>22096.0</td>\n",
       "      <td>27694.0</td>\n",
       "    </tr>\n",
       "    <tr>\n",
       "      <th>2023-06-23 12:41:40.141999960</th>\n",
       "      <td>27704.0</td>\n",
       "      <td>5515.0</td>\n",
       "      <td>11103.0</td>\n",
       "      <td>16576.0</td>\n",
       "      <td>22102.0</td>\n",
       "      <td>27704.0</td>\n",
       "    </tr>\n",
       "    <tr>\n",
       "      <th>2023-06-23 12:41:45.141000032</th>\n",
       "      <td>27714.0</td>\n",
       "      <td>5518.0</td>\n",
       "      <td>11109.0</td>\n",
       "      <td>16583.0</td>\n",
       "      <td>22110.0</td>\n",
       "      <td>27714.0</td>\n",
       "    </tr>\n",
       "    <tr>\n",
       "      <th>2023-06-23 12:41:50.141000032</th>\n",
       "      <td>27724.0</td>\n",
       "      <td>5520.0</td>\n",
       "      <td>11111.0</td>\n",
       "      <td>16587.0</td>\n",
       "      <td>22115.0</td>\n",
       "      <td>27724.0</td>\n",
       "    </tr>\n",
       "    <tr>\n",
       "      <th>2023-06-23 12:41:55.141000032</th>\n",
       "      <td>27734.0</td>\n",
       "      <td>5522.0</td>\n",
       "      <td>11115.0</td>\n",
       "      <td>16592.0</td>\n",
       "      <td>22122.0</td>\n",
       "      <td>27734.0</td>\n",
       "    </tr>\n",
       "    <tr>\n",
       "      <th>2023-06-23 12:42:00.140000105</th>\n",
       "      <td>27744.0</td>\n",
       "      <td>5524.0</td>\n",
       "      <td>11117.0</td>\n",
       "      <td>16596.0</td>\n",
       "      <td>22130.0</td>\n",
       "      <td>27744.0</td>\n",
       "    </tr>\n",
       "  </tbody>\n",
       "</table>\n",
       "</div>"
      ],
      "text/plain": [
       "                               prom_histogram_bucket{instance=\"host.docker.internal:9184\",job=\"HistogramTest\",le=\"+Inf\"}  \\\n",
       "2023-06-23 12:41:05.140000105                                            27634.0                                           \n",
       "2023-06-23 12:41:10.141000032                                            27644.0                                           \n",
       "2023-06-23 12:41:15.140000105                                            27654.0                                           \n",
       "2023-06-23 12:41:20.141000032                                            27664.0                                           \n",
       "2023-06-23 12:41:25.140000105                                            27674.0                                           \n",
       "2023-06-23 12:41:30.141000032                                            27684.0                                           \n",
       "2023-06-23 12:41:35.140000105                                            27694.0                                           \n",
       "2023-06-23 12:41:40.141999960                                            27704.0                                           \n",
       "2023-06-23 12:41:45.141000032                                            27714.0                                           \n",
       "2023-06-23 12:41:50.141000032                                            27724.0                                           \n",
       "2023-06-23 12:41:55.141000032                                            27734.0                                           \n",
       "2023-06-23 12:42:00.140000105                                            27744.0                                           \n",
       "\n",
       "                               prom_histogram_bucket{instance=\"host.docker.internal:9184\",job=\"HistogramTest\",le=\"1\"}  \\\n",
       "2023-06-23 12:41:05.140000105                                             5508.0                                        \n",
       "2023-06-23 12:41:10.141000032                                             5510.0                                        \n",
       "2023-06-23 12:41:15.140000105                                             5510.0                                        \n",
       "2023-06-23 12:41:20.141000032                                             5511.0                                        \n",
       "2023-06-23 12:41:25.140000105                                             5512.0                                        \n",
       "2023-06-23 12:41:30.141000032                                             5513.0                                        \n",
       "2023-06-23 12:41:35.140000105                                             5513.0                                        \n",
       "2023-06-23 12:41:40.141999960                                             5515.0                                        \n",
       "2023-06-23 12:41:45.141000032                                             5518.0                                        \n",
       "2023-06-23 12:41:50.141000032                                             5520.0                                        \n",
       "2023-06-23 12:41:55.141000032                                             5522.0                                        \n",
       "2023-06-23 12:42:00.140000105                                             5524.0                                        \n",
       "\n",
       "                               prom_histogram_bucket{instance=\"host.docker.internal:9184\",job=\"HistogramTest\",le=\"2\"}  \\\n",
       "2023-06-23 12:41:05.140000105                                            11084.0                                        \n",
       "2023-06-23 12:41:10.141000032                                            11090.0                                        \n",
       "2023-06-23 12:41:15.140000105                                            11092.0                                        \n",
       "2023-06-23 12:41:20.141000032                                            11093.0                                        \n",
       "2023-06-23 12:41:25.140000105                                            11095.0                                        \n",
       "2023-06-23 12:41:30.141000032                                            11098.0                                        \n",
       "2023-06-23 12:41:35.140000105                                            11101.0                                        \n",
       "2023-06-23 12:41:40.141999960                                            11103.0                                        \n",
       "2023-06-23 12:41:45.141000032                                            11109.0                                        \n",
       "2023-06-23 12:41:50.141000032                                            11111.0                                        \n",
       "2023-06-23 12:41:55.141000032                                            11115.0                                        \n",
       "2023-06-23 12:42:00.140000105                                            11117.0                                        \n",
       "\n",
       "                               prom_histogram_bucket{instance=\"host.docker.internal:9184\",job=\"HistogramTest\",le=\"3\"}  \\\n",
       "2023-06-23 12:41:05.140000105                                            16537.0                                        \n",
       "2023-06-23 12:41:10.141000032                                            16545.0                                        \n",
       "2023-06-23 12:41:15.140000105                                            16550.0                                        \n",
       "2023-06-23 12:41:20.141000032                                            16554.0                                        \n",
       "2023-06-23 12:41:25.140000105                                            16558.0                                        \n",
       "2023-06-23 12:41:30.141000032                                            16566.0                                        \n",
       "2023-06-23 12:41:35.140000105                                            16570.0                                        \n",
       "2023-06-23 12:41:40.141999960                                            16576.0                                        \n",
       "2023-06-23 12:41:45.141000032                                            16583.0                                        \n",
       "2023-06-23 12:41:50.141000032                                            16587.0                                        \n",
       "2023-06-23 12:41:55.141000032                                            16592.0                                        \n",
       "2023-06-23 12:42:00.140000105                                            16596.0                                        \n",
       "\n",
       "                               prom_histogram_bucket{instance=\"host.docker.internal:9184\",job=\"HistogramTest\",le=\"4\"}  \\\n",
       "2023-06-23 12:41:05.140000105                                            22057.0                                        \n",
       "2023-06-23 12:41:10.141000032                                            22065.0                                        \n",
       "2023-06-23 12:41:15.140000105                                            22071.0                                        \n",
       "2023-06-23 12:41:20.141000032                                            22078.0                                        \n",
       "2023-06-23 12:41:25.140000105                                            22084.0                                        \n",
       "2023-06-23 12:41:30.141000032                                            22092.0                                        \n",
       "2023-06-23 12:41:35.140000105                                            22096.0                                        \n",
       "2023-06-23 12:41:40.141999960                                            22102.0                                        \n",
       "2023-06-23 12:41:45.141000032                                            22110.0                                        \n",
       "2023-06-23 12:41:50.141000032                                            22115.0                                        \n",
       "2023-06-23 12:41:55.141000032                                            22122.0                                        \n",
       "2023-06-23 12:42:00.140000105                                            22130.0                                        \n",
       "\n",
       "                               prom_histogram_bucket{instance=\"host.docker.internal:9184\",job=\"HistogramTest\",le=\"5\"}  \n",
       "2023-06-23 12:41:05.140000105                                            27634.0                                       \n",
       "2023-06-23 12:41:10.141000032                                            27644.0                                       \n",
       "2023-06-23 12:41:15.140000105                                            27654.0                                       \n",
       "2023-06-23 12:41:20.141000032                                            27664.0                                       \n",
       "2023-06-23 12:41:25.140000105                                            27674.0                                       \n",
       "2023-06-23 12:41:30.141000032                                            27684.0                                       \n",
       "2023-06-23 12:41:35.140000105                                            27694.0                                       \n",
       "2023-06-23 12:41:40.141999960                                            27704.0                                       \n",
       "2023-06-23 12:41:45.141000032                                            27714.0                                       \n",
       "2023-06-23 12:41:50.141000032                                            27724.0                                       \n",
       "2023-06-23 12:41:55.141000032                                            27734.0                                       \n",
       "2023-06-23 12:42:00.140000105                                            27744.0                                       "
      ]
     },
     "execution_count": 83,
     "metadata": {},
     "output_type": "execute_result"
    }
   ],
   "source": [
    "df = p.query('prom_histogram_bucket[1m]')\n",
    "df"
   ]
  },
  {
   "cell_type": "code",
   "execution_count": 81,
   "id": "a47ea4f5-a075-40fb-a152-b9dfb291689f",
   "metadata": {},
   "outputs": [
    {
     "data": {
      "text/plain": [
       "34.0"
      ]
     },
     "execution_count": 81,
     "metadata": {},
     "output_type": "execute_result"
    }
   ],
   "source": [
    "df.iloc[11][2] -  df.iloc[0][2]"
   ]
  },
  {
   "cell_type": "code",
   "execution_count": 82,
   "id": "61b4df01-e179-4a64-b4f1-7d54d5a76bc7",
   "metadata": {},
   "outputs": [
    {
     "data": {
      "text/plain": [
       "{instance=\"host.docker.internal:9184\",job=\"HistogramTest\",le=\"+Inf\"}    120.000000\n",
       "{instance=\"host.docker.internal:9184\",job=\"HistogramTest\",le=\"1\"}        17.454545\n",
       "{instance=\"host.docker.internal:9184\",job=\"HistogramTest\",le=\"2\"}        36.000000\n",
       "{instance=\"host.docker.internal:9184\",job=\"HistogramTest\",le=\"3\"}        64.363636\n",
       "{instance=\"host.docker.internal:9184\",job=\"HistogramTest\",le=\"4\"}        79.636364\n",
       "{instance=\"host.docker.internal:9184\",job=\"HistogramTest\",le=\"5\"}       120.000000\n",
       "dtype: float64"
      ]
     },
     "execution_count": 82,
     "metadata": {},
     "output_type": "execute_result"
    }
   ],
   "source": [
    "lastMinute = p.query('increase(prom_histogram_bucket[1m])')\n",
    "lastMinute"
   ]
  },
  {
   "cell_type": "code",
   "execution_count": 70,
   "id": "632f68e5-18b3-4838-b172-d66781c3bb7d",
   "metadata": {},
   "outputs": [
    {
     "data": {
      "text/plain": [
       "{le=\"+Inf\"}    120.002182\n",
       "{le=\"1\"}        22.909507\n",
       "{le=\"2\"}        51.273660\n",
       "{le=\"3\"}        70.910380\n",
       "{le=\"4\"}        88.365243\n",
       "{le=\"5\"}       120.002182\n",
       "dtype: float64"
      ]
     },
     "execution_count": 70,
     "metadata": {},
     "output_type": "execute_result"
    }
   ],
   "source": [
    "lastMinute = p.query('sum(increase(prom_histogram_bucket[1m])) by (le)')\n",
    "lastMinute"
   ]
  },
  {
   "cell_type": "code",
   "execution_count": 45,
   "id": "4cc1bd19-0425-4e57-813a-b43a89e6b2dd",
   "metadata": {},
   "outputs": [
    {
     "data": {
      "image/png": "[encoded data removed]",
      "text/plain": [
       "<Figure size 640x480 with 1 Axes>"
      ]
     },
     "metadata": {},
     "output_type": "display_data"
    }
   ],
   "source": [
    "hist = lastMinute[1:].plot.bar()\n",
    "_ = hist.grid(axis='y');"
   ]
  },
  {
   "cell_type": "code",
   "execution_count": 46,
   "id": "2503c2f8-7cda-4955-9c2f-8cb82d019515",
   "metadata": {},
   "outputs": [
    {
     "data": {
      "text/plain": [
       "{instance=\"host.docker.internal:9184\",job=\"HistogramTest\"}    4.752273\n",
       "dtype: float64"
      ]
     },
     "execution_count": 46,
     "metadata": {},
     "output_type": "execute_result"
    }
   ],
   "source": [
    "p.query('histogram_quantile(0.95, increase(prom_histogram_bucket[1m]))') "
   ]
  },
  {
   "cell_type": "code",
   "execution_count": 47,
   "id": "b79e5258-4c67-4afe-ad7e-33ebb56af4a5",
   "metadata": {},
   "outputs": [
    {
     "data": {
      "text/plain": [
       "{}    4.752273\n",
       "dtype: float64"
      ]
     },
     "execution_count": 47,
     "metadata": {},
     "output_type": "execute_result"
    }
   ],
   "source": [
    "p.query('histogram_quantile(0.95, sum(increase(prom_histogram_bucket[1m])) by (le))') "
   ]
  },
  {
   "cell_type": "markdown",
   "id": "e56c29c1-ca7d-416b-b1f6-8d8436ef72b5",
   "metadata": {},
   "source": [
    "Vi har i alt"
   ]
  },
  {
   "cell_type": "markdown",
   "id": "dad6c132-e5b6-4726-a62f-78f1c0c543e7",
   "metadata": {},
   "source": [
    "lastMinute['{le=\"5\"}']"
   ]
  },
  {
   "cell_type": "markdown",
   "id": "5d48f5ad-56ad-4602-86e8-96190920e475",
   "metadata": {},
   "source": [
    "20 "
   ]
  },
  {
   "cell_type": "markdown",
   "id": "0d626aa4-2075-4e88-a35c-622220a78199",
   "metadata": {},
   "source": [
    "observationer. 95% fraktil svarer til"
   ]
  },
  {
   "cell_type": "code",
   "execution_count": 52,
   "id": "18762cbb-d32e-4d16-85d6-5a72fccd3d80",
   "metadata": {},
   "outputs": [
    {
     "data": {
      "text/plain": [
       "112.9656902852779"
      ]
     },
     "execution_count": 52,
     "metadata": {},
     "output_type": "execute_result"
    }
   ],
   "source": [
    "0.95 * lastMinute['{le=\"5\"}']"
   ]
  },
  {
   "cell_type": "markdown",
   "id": "73e3501a-35c6-4bc0-85f4-d897b1d10101",
   "metadata": {},
   "source": [
    "Hvilket er et antal observationer inde i bucket 5:"
   ]
  },
  {
   "cell_type": "code",
   "execution_count": 53,
   "id": "73136cf9-9bcd-4307-9a9b-ac6afef61d55",
   "metadata": {},
   "outputs": [
    {
     "data": {
      "text/plain": [
       "19.14580265095728"
      ]
     },
     "execution_count": 53,
     "metadata": {},
     "output_type": "execute_result"
    }
   ],
   "source": [
    "target = 0.95 * lastMinute['{le=\"5\"}'] - lastMinute['{le=\"4\"}']\n",
    "target"
   ]
  },
  {
   "cell_type": "markdown",
   "id": "2d729915-fee6-4146-999c-7bd0367cf9d0",
   "metadata": {},
   "source": [
    "Lad os antage, at de observationer som falder i bucket 5 er fordelt ligeligt over bucket 5, så kan vi udregne en hældning:"
   ]
  },
  {
   "cell_type": "code",
   "execution_count": 50,
   "id": "43810b70-40ab-438c-9a22-de74ec220c33",
   "metadata": {},
   "outputs": [
    {
     "data": {
      "text/plain": [
       "0.039854347826086954"
      ]
     },
     "execution_count": 50,
     "metadata": {},
     "output_type": "execute_result"
    }
   ],
   "source": [
    "slope = 1.0 / (lastMinute['{le=\"5\"}'] - lastMinute['{le=\"4\"}'])\n",
    "slope "
   ]
  },
  {
   "cell_type": "markdown",
   "id": "57bab0ff-48b6-4027-b6a0-7a817e5bf158",
   "metadata": {},
   "source": [
    "Hvilket bucket indeholder ovenstående request? Det gør bucket 5."
   ]
  },
  {
   "cell_type": "code",
   "execution_count": 51,
   "id": "186d79a0-e50d-496b-97e4-764984647351",
   "metadata": {},
   "outputs": [
    {
     "data": {
      "text/plain": [
       "4.763043478260869"
      ]
     },
     "execution_count": 51,
     "metadata": {},
     "output_type": "execute_result"
    }
   ],
   "source": [
    "4.0 + slope * target"
   ]
  },
  {
   "cell_type": "code",
   "execution_count": 39,
   "id": "6640414d-3b09-4f45-86a8-27d89f4a4d50",
   "metadata": {},
   "outputs": [
    {
     "data": {
      "image/png": "[encoded data removed]",
      "text/plain": [
       "<Figure size 640x480 with 1 Axes>"
      ]
     },
     "metadata": {},
     "output_type": "display_data"
    }
   ],
   "source": [
    "plot = lastMinute[1:].plot(kind='line');\n",
    "plot.grid(axis='y');\n",
    "_  = plot.axhline(y=0.95*120, color= 'red', linewidth=2,)"
   ]
  },
  {
   "cell_type": "code",
   "execution_count": null,
   "id": "f01e3c4d-a68d-4b76-8aaa-19de0dcaf1ab",
   "metadata": {},
   "outputs": [],
   "source": []
  }
 ],
 "metadata": {
  "kernelspec": {
   "display_name": "Python 3 (ipykernel)",
   "language": "python",
   "name": "python3"
  },
  "language_info": {
   "codemirror_mode": {
    "name": "ipython",
    "version": 3
   },
   "file_extension": ".py",
   "mimetype": "text/x-python",
   "name": "python",
   "nbconvert_exporter": "python",
   "pygments_lexer": "ipython3",
   "version": "3.11.0"
  }
 },
 "nbformat": 4,
 "nbformat_minor": 5
}
